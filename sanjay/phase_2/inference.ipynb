{
 "cells": [
  {
   "cell_type": "code",
   "execution_count": 1,
   "metadata": {},
   "outputs": [],
   "source": [
    "import pandas as pd\n",
    "import torch\n",
    "import os\n",
    "from PIL import Image\n",
    "import torchvision.transforms as transforms\n",
    "from tqdm import tqdm\n",
    "import torchvision.models as models\n",
    "from torchvision.models.resnet import ResNet50_Weights\n",
    "from torchvision.models.densenet import DenseNet161_Weights\n",
    "from torchvision.models.resnet import ResNeXt50_32X4D_Weights\n",
    "from torchvision.models.resnet import ResNet101_Weights\n",
    "from torchvision.models.inception import Inception_V3_Weights\n",
    "\n",
    "from focal_loss.focal_loss import FocalLoss\n"
   ]
  },
  {
   "cell_type": "code",
   "execution_count": 2,
   "metadata": {},
   "outputs": [],
   "source": [
    "DEVICE = torch.device(\"cuda\" if torch.cuda.is_available() else \"cpu\")\n",
    "TEST_IMG_DIR = \"ism_project_2023/test\"  \n",
    "MODEL_WEIGHTS_PATH_RESNET = \"C:/Users/sanja/OneDrive/WiSe_23/ISM/ism_project_2023/phase2/best_resnet50_model.pth\"\n",
    "MODEL_WEIGHTS_PATH_DENSENET = \"C:/Users/sanja/OneDrive/WiSe_23/ISM/ism_project_2023/phase2/best_densenet161_model.pth\"\n",
    "MODEL_WEIGHTS_PATH_RESNEXT = \"C:/Users/sanja/OneDrive/WiSe_23/ISM/ism_project_2023/phase2/best_resnext50_model_0.6.pth\"\n",
    "CSV_FILE = \"ism_project_2023/test.csv\"\n",
    "NUM_CLASSES=4\n"
   ]
  },
  {
   "cell_type": "code",
   "execution_count": 9,
   "metadata": {},
   "outputs": [
    {
     "name": "stdout",
     "output_type": "stream",
     "text": [
      "MODEL LOADED\n"
     ]
    }
   ],
   "source": [
    "model1 = models.resnet50(weights=ResNet50_Weights.IMAGENET1K_V1)  \n",
    "model1.fc = torch.nn.Linear(in_features=2048, out_features=NUM_CLASSES)\n",
    "model1.load_state_dict(torch.load(MODEL_WEIGHTS_PATH_RESNET,map_location=torch.device('cpu')))\n",
    "model1.to(DEVICE)\n",
    "model1.eval()\n",
    "print(\"MODEL LOADED\")\n"
   ]
  },
  {
   "cell_type": "code",
   "execution_count": 5,
   "metadata": {},
   "outputs": [
    {
     "name": "stdout",
     "output_type": "stream",
     "text": [
      "MODEL 2 LOADED\n"
     ]
    }
   ],
   "source": [
    "model2 = models.resnext50_32x4d(weights=ResNeXt50_32X4D_Weights.IMAGENET1K_V1)  \n",
    "model2.fc = torch.nn.Linear(in_features=2048, out_features=NUM_CLASSES)\n",
    "model2.load_state_dict(torch.load(MODEL_WEIGHTS_PATH_RESNEXT,map_location=torch.device('cpu')))\n",
    "model2.to(DEVICE)\n",
    "model2.eval()\n",
    "print(\"MODEL 2 LOADED\")"
   ]
  },
  {
   "cell_type": "code",
   "execution_count": 6,
   "metadata": {},
   "outputs": [
    {
     "name": "stdout",
     "output_type": "stream",
     "text": [
      "MODEL 3 LOADED\n"
     ]
    }
   ],
   "source": [
    "model3 = models.densenet161(weights=DenseNet161_Weights.IMAGENET1K_V1)  \n",
    "model3.fc = torch.nn.Linear(in_features=2048, out_features=NUM_CLASSES)\n",
    "model3.load_state_dict(torch.load(MODEL_WEIGHTS_PATH_DENSENET,map_location=torch.device('cpu')))\n",
    "model3.to(DEVICE)\n",
    "model3.eval()\n",
    "print(\"MODEL 3 LOADED\")"
   ]
  },
  {
   "cell_type": "code",
   "execution_count": 7,
   "metadata": {},
   "outputs": [],
   "source": [
    "transform = transforms.Compose([\n",
    "    transforms.Resize((224,224)),\n",
    "    transforms.ToTensor(),\n",
    "    transforms.Normalize(mean=[0.485, 0.456, 0.406], \n",
    "                         std=[0.229, 0.224, 0.225]),\n",
    "    \n",
    "])\n"
   ]
  },
  {
   "cell_type": "code",
   "execution_count": 8,
   "metadata": {},
   "outputs": [],
   "source": [
    "TEST={\"count\":[],\"probabilities_1\":[],\"probabilities_2\":[],\"probabilities_3\":[]}"
   ]
  },
  {
   "cell_type": "code",
   "execution_count": 16,
   "metadata": {},
   "outputs": [],
   "source": [
    "def predict1(image_path, model, transform):\n",
    "    image = Image.open(image_path).convert('RGB')\n",
    "    image = transform(image).unsqueeze(0) \n",
    "    image = image.to(DEVICE)\n",
    "    with torch.no_grad():\n",
    "        output = model(image)\n",
    "        probabilities = torch.nn.functional.softmax(output[0], dim=0)\n",
    "        TEST[\"probabilities_1\"].append(probabilities)\n",
    "        predicted_class = probabilities.argmax().item()\n",
    "    return int(predicted_class)"
   ]
  },
  {
   "cell_type": "code",
   "execution_count": 17,
   "metadata": {},
   "outputs": [],
   "source": [
    "def predict2(image_path, model, transform):\n",
    "    image = Image.open(image_path).convert('RGB')\n",
    "    image = transform(image).unsqueeze(0) \n",
    "    image = image.to(DEVICE)\n",
    "    with torch.no_grad():\n",
    "        output = model2(image)\n",
    "        probabilities = torch.nn.functional.softmax(output[0], dim=0)\n",
    "        TEST[\"probabilities_2\"].append(probabilities)\n",
    "        predicted_class = probabilities.argmax().item()\n",
    "    return int(predicted_class)"
   ]
  },
  {
   "cell_type": "code",
   "execution_count": 18,
   "metadata": {},
   "outputs": [],
   "source": [
    "def predict3(image_path, model, transform):\n",
    "    image = Image.open(image_path).convert('RGB')\n",
    "    image = transform(image).unsqueeze(0) \n",
    "    image = image.to(DEVICE)\n",
    "    with torch.no_grad():\n",
    "        output = model2(image)\n",
    "        probabilities = torch.nn.functional.softmax(output[0], dim=0)\n",
    "        TEST[\"probabilities_3\"].append(probabilities)\n",
    "        predicted_class = probabilities.argmax().item()\n",
    "    return int(predicted_class)"
   ]
  },
  {
   "cell_type": "code",
   "execution_count": 19,
   "metadata": {},
   "outputs": [
    {
     "name": "stderr",
     "output_type": "stream",
     "text": [
      "  0%|          | 0/2139 [00:00<?, ?it/s]"
     ]
    },
    {
     "name": "stderr",
     "output_type": "stream",
     "text": [
      "100%|██████████| 2139/2139 [09:02<00:00,  3.94it/s]\n"
     ]
    }
   ],
   "source": [
    "\n",
    "df = pd.read_csv(CSV_FILE)\n",
    "count=0\n",
    "for index, row in tqdm(df.iterrows(), total=len(df)):\n",
    "    # if count<=100:\n",
    "        image_name = row['name']\n",
    "        image_path = os.path.join(TEST_IMG_DIR, image_name + '.jpg')\n",
    "        predicted_class = predict1(image_path, model1, transform)\n",
    "        df.at[index, 'label'] = predicted_class"
   ]
  },
  {
   "cell_type": "code",
   "execution_count": 20,
   "metadata": {},
   "outputs": [
    {
     "name": "stderr",
     "output_type": "stream",
     "text": [
      "  0%|          | 0/2139 [00:00<?, ?it/s]"
     ]
    },
    {
     "name": "stderr",
     "output_type": "stream",
     "text": [
      "100%|██████████| 2139/2139 [08:58<00:00,  3.97it/s]\n"
     ]
    }
   ],
   "source": [
    "df = pd.read_csv(CSV_FILE)\n",
    "count=0\n",
    "for index, row in tqdm(df.iterrows(), total=len(df)):\n",
    "    # if count<=100:\n",
    "        image_name = row['name']\n",
    "        image_path = os.path.join(TEST_IMG_DIR, image_name + '.jpg')\n",
    "        predicted_class = predict2(image_path, model2, transform)\n",
    "        df.at[index, 'label'] = predicted_class\n",
    "        # count=count+1"
   ]
  },
  {
   "cell_type": "code",
   "execution_count": 44,
   "metadata": {},
   "outputs": [
    {
     "name": "stdout",
     "output_type": "stream",
     "text": [
      "tensor([0.3247, 0.1908, 0.4229, 0.0616])\n"
     ]
    }
   ],
   "source": [
    "print((TEST[\"probabilities_1\"][0]))"
   ]
  },
  {
   "cell_type": "code",
   "execution_count": 21,
   "metadata": {},
   "outputs": [
    {
     "name": "stderr",
     "output_type": "stream",
     "text": [
      "100%|██████████| 2139/2139 [06:34<00:00,  5.43it/s]\n"
     ]
    }
   ],
   "source": [
    "df = pd.read_csv(CSV_FILE)\n",
    "count=0\n",
    "for index, row in tqdm(df.iterrows(), total=len(df)):\n",
    "    # if count<=100:\n",
    "        image_name = row['name']\n",
    "        image_path = os.path.join(TEST_IMG_DIR, image_name + '.jpg')\n",
    "        predicted_class = predict3(image_path, model3, transform)\n",
    "        df.at[index, 'label'] = predicted_class"
   ]
  },
  {
   "cell_type": "code",
   "execution_count": 61,
   "metadata": {},
   "outputs": [
    {
     "name": "stdout",
     "output_type": "stream",
     "text": [
      "tensor([0.3247, 0.1908, 0.4229, 0.0616])\n",
      "tensor([2.6438e-08, 1.2990e-05, 9.9938e-01, 6.0353e-04])\n",
      "tensor([2.6438e-08, 1.2990e-05, 9.9938e-01, 6.0353e-04])\n",
      "tensor([0.1082, 0.0636, 0.8072, 0.0209])\n"
     ]
    }
   ],
   "source": [
    "print(TEST[\"probabilities_1\"][0])\n",
    "print(TEST[\"probabilities_2\"][0])\n",
    "print(TEST[\"probabilities_3\"][0])\n",
    "print((TEST[\"probabilities_1\"][0]/3+TEST[\"probabilities_2\"][0]/3+TEST[\"probabilities_3\"][0]/3))\n"
   ]
  },
  {
   "cell_type": "code",
   "execution_count": 53,
   "metadata": {},
   "outputs": [
    {
     "name": "stdout",
     "output_type": "stream",
     "text": [
      "2139\n",
      "2139\n",
      "2139\n"
     ]
    }
   ],
   "source": [
    "print(len(TEST[\"probabilities_1\"]))\n",
    "print(len(TEST[\"probabilities_2\"]))\n",
    "print(len(TEST[\"probabilities_3\"]))"
   ]
  },
  {
   "cell_type": "code",
   "execution_count": 56,
   "metadata": {},
   "outputs": [
    {
     "name": "stdout",
     "output_type": "stream",
     "text": [
      "tensor([4.5091e-04, 7.2199e-02, 7.6974e-01, 1.5761e-01])\n"
     ]
    }
   ],
   "source": [
    "print(TEST[\"probabilities_1\"][2138])"
   ]
  },
  {
   "cell_type": "code",
   "execution_count": 65,
   "metadata": {},
   "outputs": [],
   "source": [
    "import csv\n",
    "with open('sum.csv', 'w', newline='') as file:\n",
    "    writer = csv.writer(file)\n",
    "    writer.writerow([\"prediction\"])\n",
    "    for i in range(2138):\n",
    "        sum=TEST[\"probabilities_1\"][i]+TEST[\"probabilities_2\"][i]+TEST[\"probabilities_3\"][i]\n",
    "        avg=sum/3\n",
    "        writer.writerow([avg.argmax().item()])"
   ]
  }
 ],
 "metadata": {
  "kernelspec": {
   "display_name": "Python 3",
   "language": "python",
   "name": "python3"
  },
  "language_info": {
   "codemirror_mode": {
    "name": "ipython",
    "version": 3
   },
   "file_extension": ".py",
   "mimetype": "text/x-python",
   "name": "python",
   "nbconvert_exporter": "python",
   "pygments_lexer": "ipython3",
   "version": "3.11.3"
  }
 },
 "nbformat": 4,
 "nbformat_minor": 2
}
